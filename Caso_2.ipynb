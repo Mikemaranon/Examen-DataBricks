{
 "cells": [
  {
   "cell_type": "markdown",
   "metadata": {
    "application/vnd.databricks.v1+cell": {
     "cellMetadata": {},
     "inputWidgets": {},
     "nuid": "7bc88472-0819-44bb-a870-05c265cca4c5",
     "showTitle": false,
     "tableResultSettingsMap": {},
     "title": ""
    }
   },
   "source": [
    "# Encontrando insights de la UEFA Champions League"
   ]
  },
  {
   "cell_type": "code",
   "execution_count": 0,
   "metadata": {
    "application/vnd.databricks.v1+cell": {
     "cellMetadata": {
      "byteLimit": 2048000,
      "rowLimit": 10000
     },
     "inputWidgets": {},
     "nuid": "81162e3c-d479-4546-ad71-ef5c3277b00d",
     "showTitle": false,
     "tableResultSettingsMap": {},
     "title": ""
    }
   },
   "outputs": [],
   "source": [
    "# importaciones\n",
    "from pyspark.sql.functions import col, when\n",
    "from pyspark.sql.types import IntegerType\n",
    "from pyspark.sql import functions as F\n",
    "from functools import reduce"
   ]
  },
  {
   "cell_type": "markdown",
   "metadata": {
    "application/vnd.databricks.v1+cell": {
     "cellMetadata": {},
     "inputWidgets": {},
     "nuid": "dec9c196-3f29-444f-a2f7-13e3827b29ef",
     "showTitle": false,
     "tableResultSettingsMap": {},
     "title": ""
    }
   },
   "source": [
    "La Liga de Campeones de la UEFA, a menudo llamada Liga de Campeones, es una competencia anual de fútbol por excelencia que cautiva a los fanáticos de todo el mundo. Establecida en 1955 como la Copa de Clubes Campeones de Europa, evolucionó a la Liga de Campeones de la UEFA en 1992, ampliando su atractivo. El formato moderno cuenta con 32 equipos de clubes de primer nivel seleccionados en función de su desempeño en la liga nacional, lo que aumenta la intriga.  \n",
    "\n",
    "Este evento electrizante trasciende los deportes y se convierte en una celebración de la unidad, la cultura y el orgullo nacional. Los fanáticos, vestidos con los colores de sus países, crean una atmósfera eléctrica, lo que hace que el torneo sea tanto sobre los espectadores como sobre los jugadores. Financieramente, la Liga de Campeones es un salvavidas para los clubes, ya que aumenta los ingresos y ofrece oportunidades transformadoras. Sin embargo, genera debates sobre las disparidades de riqueza en el fútbol europeo.  \n",
    "\n",
    "La Liga de Campeones es sinónimo de rivalidades históricas, triunfos de los desvalidos y brillantez individual. Para los jugadores, representa la cima de su carrera, mientras que para los fanáticos, es un fenómeno cultural. El himno y los rituales icónicos enriquecen la experiencia futbolística. En 200 palabras, la UEFA Champions League es el epítome de la excelencia del fútbol europeo, que ofrece momentos inolvidables, recompensas económicas y un impacto cultural único, con 32 clubes de primer nivel que se suman a su atractivo."
   ]
  },
  {
   "cell_type": "markdown",
   "metadata": {
    "application/vnd.databricks.v1+cell": {
     "cellMetadata": {},
     "inputWidgets": {},
     "nuid": "3ff8fe53-6686-4ae2-8c5b-662e85535ff5",
     "showTitle": false,
     "tableResultSettingsMap": {},
     "title": ""
    }
   },
   "source": [
    "**Nombres de las tablas o ficheros a utilizar**:  \n",
    "[uefa_2020.csv](https://tajamar365.sharepoint.com/:x:/s/3405-MasterIA2024-2025/EQuW8d16tZJKpYZN6jR480sBgc1IYypAw9hGHKQARS560g?e=7TybBU)  \n",
    "[uefa_2021.csv](https://tajamar365.sharepoint.com/:x:/s/3405-MasterIA2024-2025/ESG8YBrjD3tBky3aGT0MwIABNt_PQxFVVYVlWMnZYUmV8g?e=VrYHtX)  \n",
    "[uefa_2022.csv](https://tajamar365.sharepoint.com/:x:/s/3405-MasterIA2024-2025/Ecf8O8U8sxJLoW9Bkd2ZVzgBb_gZc35mNcprnR9FMlzliQ?e=Vn3a6v)  \n",
    "- Todas las tablas tienen las mismas columnas y data types"
   ]
  },
  {
   "cell_type": "markdown",
   "metadata": {
    "application/vnd.databricks.v1+cell": {
     "cellMetadata": {},
     "inputWidgets": {},
     "nuid": "910b06ac-21ef-4f0c-bb95-9611f90d7635",
     "showTitle": false,
     "tableResultSettingsMap": {},
     "title": ""
    }
   },
   "source": [
    "| Column | Definition | Data type |\n",
    "|--------|------------|-----------|\n",
    "| `STAGE`| Stage of the March | `VARCHAR(50)` |\n",
    "| `DATE` | When the match occurred. | `DATE` |\n",
    "| `PENS` | Did the match end with penalty | `VARCHAR(50)` |\n",
    "| `PENS_HOME_SCORE` | In case of penalty, score by home team | `VARCHAR(50)` |\n",
    "| `PENS_AWAY_SCORE` | In case of penalty, score by away team | `VARCHAR(50)` |\n",
    "| `TEAM_NAME_HOME` | Team home name | `VARCHAR(50)` |\n",
    "| `TEAM_NAME_AWAY`| Team away  name | `VARCHAR(50)` |\n",
    "| `TEAM_HOME_SCORE` | Team home score | `NUMBER` |\n",
    "| `TEAM_AWAY_SCORE` | Team away score | `NUMBER` |\n",
    "| `POSSESSION_HOME` | Ball possession for the home team | `FLOAT` |\n",
    "| `POSSESSION_AWAY` | Ball possession for the away team | `FLOAT` |\n",
    "| `TOTAL_SHOTS_HOME` | Number of shots by the home team | `NUMBER` |\n",
    "| `TOTAL_SHOTS_AWAY` | Number of shots by the away team | `NUMBER`\n",
    "| `SHOTS_ON_TARGET_HOME` | Total shot for home team | `FLOAT` |\n",
    "| `SHOTS_ON_TARGET_AWAY` | Total shot for away team | `FLOAT` |\n",
    "| `DUELS_WON_HOME` | duel win possession of ball - for home team | `NUMBER` |\n",
    "| `DUELS_WON_AWAY` | duel win possession of ball - for away team | `NUMBER` \n",
    "| `PREDICTION_TEAM_HOME_WIN` | Probability of home team to win | `FLOAT` |\n",
    "| `PREDICTION_DRAW` | Probability of draw | `FLOAT` |\n",
    "| `PREDICTION_TEAM_AWAY_WIN` | Probability of away team to win | `FLOAT` |\n",
    "| `LOCATION` | Stadium where the match was held | `VARCHAR(50)` |"
   ]
  },
  {
   "cell_type": "markdown",
   "metadata": {
    "application/vnd.databricks.v1+cell": {
     "cellMetadata": {},
     "inputWidgets": {},
     "nuid": "b6ed3067-8a31-45a7-9120-766336560fef",
     "showTitle": false,
     "tableResultSettingsMap": {},
     "title": ""
    }
   },
   "source": [
    "### Requerimientos:  \n",
    "-Puedes utilizar SQL o PySpark"
   ]
  },
  {
   "cell_type": "code",
   "execution_count": 0,
   "metadata": {
    "application/vnd.databricks.v1+cell": {
     "cellMetadata": {
      "byteLimit": 2048000,
      "rowLimit": 10000
     },
     "inputWidgets": {},
     "nuid": "848a67dd-aa82-407c-ba6f-f9c9ca7d58cb",
     "showTitle": false,
     "tableResultSettingsMap": {},
     "title": ""
    }
   },
   "outputs": [
    {
     "output_type": "stream",
     "name": "stdout",
     "output_type": "stream",
     "text": [
      "root\n |-- STAGE: string (nullable = true)\n |-- DATE: string (nullable = true)\n |-- PENS: boolean (nullable = true)\n |-- PENS_HOME_SCORE: boolean (nullable = true)\n |-- PENS_AWAY_SCORE: boolean (nullable = true)\n |-- TEAM_NAME_HOME: string (nullable = true)\n |-- TEAM_NAME_AWAY: string (nullable = true)\n |-- TEAM_HOME_SCORE: integer (nullable = true)\n |-- TEAM_AWAY_SCORE: integer (nullable = true)\n |-- POSSESSION_HOME: string (nullable = true)\n |-- POSSESSION_AWAY: string (nullable = true)\n |-- TOTAL_SHOTS_HOME: integer (nullable = true)\n |-- TOTAL_SHOTS_AWAY: integer (nullable = true)\n |-- SHOTS_ON_TARGET_HOME: integer (nullable = true)\n |-- SHOTS_ON_TARGET_AWAY: integer (nullable = true)\n |-- DUELS_WON_HOME: string (nullable = true)\n |-- DUELS_WON_AWAY: string (nullable = true)\n |-- PREDICTION_TEAM_HOME_WIN: string (nullable = true)\n |-- PREDICTION_DRAW: string (nullable = true)\n |-- PREDICTION_TEAM_AWAY_WIN: string (nullable = true)\n |-- LOCATION: string (nullable = true)\n\n+--------------------+------------+-----+---------------+---------------+-----------------+-----------------+---------------+---------------+---------------+---------------+----------------+----------------+--------------------+--------------------+--------------+--------------+------------------------+---------------+------------------------+--------------------+\n|               STAGE|        DATE| PENS|PENS_HOME_SCORE|PENS_AWAY_SCORE|   TEAM_NAME_HOME|   TEAM_NAME_AWAY|TEAM_HOME_SCORE|TEAM_AWAY_SCORE|POSSESSION_HOME|POSSESSION_AWAY|TOTAL_SHOTS_HOME|TOTAL_SHOTS_AWAY|SHOTS_ON_TARGET_HOME|SHOTS_ON_TARGET_AWAY|DUELS_WON_HOME|DUELS_WON_AWAY|PREDICTION_TEAM_HOME_WIN|PREDICTION_DRAW|PREDICTION_TEAM_AWAY_WIN|            LOCATION|\n+--------------------+------------+-----+---------------+---------------+-----------------+-----------------+---------------+---------------+---------------+---------------+----------------+----------------+--------------------+--------------------+--------------+--------------+------------------------+---------------+------------------------+--------------------+\n|              Final | 29-05-2021 |false|          false|          false| Manchester City |         Chelsea |              0|              1|            61%|            39%|               7|               8|                   1|                   2|           50%|           50%|                     55%|             3%|                     42%|  Estádio Do Dragão |\n| Semi-finals seco...| 05-05-2021 |false|          false|          false|         Chelsea |     Real Madrid |              2|              0|            32%|            68%|              15|               7|                   5|                   5|           52%|           49%|                     43%|             3%|                     54%|    Stamford Bridge |\n| Semi-finals seco...| 04-05-2021 |false|          false|          false| Manchester City |             PSG |              2|              0|            44%|            56%|              12|              14|                   5|                   0|           53%|           47%|                     44%|             3%|                     53%|     Etihad Stadium |\n| Semi-finals firs...| 28-04-2021 |false|          false|          false|             PSG | Manchester City |              1|              2|            40%|            60%|              10|              11|                   4|                   6|           47%|           53%|                     65%|             4%|                     31%|   Parc des Princes |\n| Semi-finals firs...| 27-04-2021 |false|          false|          false|     Real Madrid |         Chelsea |              1|              1|            51%|            49%|               9|              11|                   1|                   5|           49%|           52%|                     61%|             4%|                     35%| Alfredo Di Stéfano |\n+--------------------+------------+-----+---------------+---------------+-----------------+-----------------+---------------+---------------+---------------+---------------+----------------+----------------+--------------------+--------------------+--------------+--------------+------------------------+---------------+------------------------+--------------------+\nonly showing top 5 rows\n\n"
     ]
    }
   ],
   "source": [
    "# Cargar los archivos CSV en DataFrames\n",
    "df_2020 = spark.read.csv(\"/FileStore/examenDataBricks/Caso_2/uefa_2020.csv\", header=True, inferSchema=True)\n",
    "df_2021 = spark.read.csv(\"/FileStore/examenDataBricks/Caso_2/uefa_2021.csv\", header=True, inferSchema=True)\n",
    "df_2022 = spark.read.csv(\"/FileStore/examenDataBricks/Caso_2/uefa_2022.csv\", header=True, inferSchema=True)\n",
    "\n",
    "# Unir los DataFrames\n",
    "df_all = df_2020.union(df_2021).union(df_2022)\n",
    "df_all.write.csv(\"/FileStore/examenDataBricks/Caso_2/df_all_combined.csv\", header=True)\n",
    "\n",
    "# Verificar la estructura del DataFrame combinado\n",
    "df_all.printSchema()\n",
    "df_all.show(5)\n"
   ]
  },
  {
   "cell_type": "markdown",
   "metadata": {
    "application/vnd.databricks.v1+cell": {
     "cellMetadata": {},
     "inputWidgets": {},
     "nuid": "96872dad-7ed6-4372-84e9-763aa2d6c83f",
     "showTitle": false,
     "tableResultSettingsMap": {},
     "title": ""
    }
   },
   "source": [
    "1. Encuentra los 3 equipos que anotaron más goles jugando en su estadio en la UEFA Champions League 2020-21. El resultado debe contener dos columnas: TEAM_NAME_HOME y TEAM_HOME_SCORE ordenadas en orden descendente de TEAM_HOME_SCORE. Guarda la consulta (o el notebook) como TEAM_HOME_WITH_MOST_GOALS."
   ]
  },
  {
   "cell_type": "code",
   "execution_count": 0,
   "metadata": {
    "application/vnd.databricks.v1+cell": {
     "cellMetadata": {
      "byteLimit": 2048000,
      "rowLimit": 10000
     },
     "collapsed": true,
     "inputWidgets": {},
     "nuid": "fa0f4b73-38f2-49a3-93c0-689d60529001",
     "showTitle": false,
     "tableResultSettingsMap": {},
     "title": ""
    }
   },
   "outputs": [
    {
     "output_type": "display_data",
     "data": {
      "text/html": [
       "<style scoped>\n",
       "  .table-result-container {\n",
       "    max-height: 300px;\n",
       "    overflow: auto;\n",
       "  }\n",
       "  table, th, td {\n",
       "    border: 1px solid black;\n",
       "    border-collapse: collapse;\n",
       "  }\n",
       "  th, td {\n",
       "    padding: 5px;\n",
       "  }\n",
       "  th {\n",
       "    text-align: left;\n",
       "  }\n",
       "</style><div class='table-result-container'><table class='table-result'><thead style='background-color: white'><tr><th>TEAM_HOME_SCORE</th></tr></thead><tbody><tr><td>0</td></tr><tr><td>2</td></tr><tr><td>2</td></tr><tr><td>1</td></tr><tr><td>1</td></tr><tr><td>0</td></tr><tr><td>1</td></tr><tr><td>0</td></tr><tr><td>0</td></tr><tr><td>0</td></tr><tr><td>2</td></tr><tr><td>3</td></tr><tr><td>2</td></tr><tr><td>2</td></tr><tr><td>2</td></tr><tr><td>2</td></tr><tr><td>3</td></tr><tr><td>1</td></tr><tr><td>2</td></tr><tr><td>3</td></tr><tr><td>2</td></tr><tr><td>0</td></tr><tr><td>0</td></tr><tr><td>0</td></tr><tr><td>1</td></tr><tr><td>2</td></tr><tr><td>2</td></tr><tr><td>1</td></tr><tr><td>0</td></tr><tr><td>2</td></tr><tr><td>2</td></tr><tr><td>0</td></tr><tr><td>0</td></tr><tr><td>0</td></tr><tr><td>3</td></tr><tr><td>5</td></tr><tr><td>0</td></tr><tr><td>1</td></tr><tr><td>0</td></tr><tr><td>1</td></tr><tr><td>1</td></tr><tr><td>3</td></tr><tr><td>1</td></tr><tr><td>1</td></tr><tr><td>2</td></tr><tr><td>1</td></tr><tr><td>3</td></tr><tr><td>0</td></tr><tr><td>3</td></tr><tr><td>1</td></tr><tr><td>0</td></tr><tr><td>1</td></tr><tr><td>3</td></tr><tr><td>1</td></tr><tr><td>2</td></tr><tr><td>0</td></tr><tr><td>1</td></tr><tr><td>1</td></tr><tr><td>2</td></tr><tr><td>1</td></tr><tr><td>2</td></tr><tr><td>0</td></tr><tr><td>3</td></tr><tr><td>0</td></tr><tr><td>0</td></tr><tr><td>0</td></tr><tr><td>3</td></tr><tr><td>4</td></tr><tr><td>0</td></tr><tr><td>3</td></tr><tr><td>0</td></tr><tr><td>2</td></tr><tr><td>3</td></tr><tr><td>4</td></tr><tr><td>1</td></tr><tr><td>1</td></tr><tr><td>1</td></tr><tr><td>3</td></tr><tr><td>3</td></tr><tr><td>0</td></tr><tr><td>2</td></tr><tr><td>2</td></tr><tr><td>1</td></tr><tr><td>2</td></tr><tr><td>1</td></tr><tr><td>1</td></tr><tr><td>3</td></tr><tr><td>2</td></tr><tr><td>3</td></tr><tr><td>3</td></tr><tr><td>0</td></tr><tr><td>1</td></tr><tr><td>0</td></tr><tr><td>1</td></tr><tr><td>1</td></tr><tr><td>2</td></tr><tr><td>2</td></tr><tr><td>5</td></tr><tr><td>0</td></tr><tr><td>0</td></tr><tr><td>0</td></tr><tr><td>2</td></tr><tr><td>3</td></tr><tr><td>2</td></tr><tr><td>2</td></tr><tr><td>2</td></tr><tr><td>0</td></tr><tr><td>1</td></tr><tr><td>0</td></tr><tr><td>0</td></tr><tr><td>1</td></tr><tr><td>0</td></tr><tr><td>3</td></tr><tr><td>2</td></tr><tr><td>4</td></tr><tr><td>2</td></tr><tr><td>2</td></tr><tr><td>0</td></tr><tr><td>1</td></tr><tr><td>2</td></tr><tr><td>1</td></tr><tr><td>5</td></tr><tr><td>3</td></tr><tr><td>1</td></tr><tr><td>0</td></tr><tr><td>0</td></tr><tr><td>3</td></tr><tr><td>2</td></tr><tr><td>2</td></tr><tr><td>4</td></tr><tr><td>0</td></tr><tr><td>3</td></tr><tr><td>2</td></tr><tr><td>1</td></tr><tr><td>1</td></tr><tr><td>1</td></tr><tr><td>1</td></tr><tr><td>1</td></tr><tr><td>1</td></tr><tr><td>0</td></tr><tr><td>0</td></tr><tr><td>0</td></tr><tr><td>0</td></tr><tr><td>3</td></tr><tr><td>7</td></tr><tr><td>0</td></tr><tr><td>1</td></tr><tr><td>2</td></tr><tr><td>1</td></tr><tr><td>2</td></tr><tr><td>0</td></tr><tr><td>1</td></tr><tr><td>0</td></tr><tr><td>1</td></tr><tr><td>3</td></tr><tr><td>1</td></tr><tr><td>1</td></tr><tr><td>3</td></tr><tr><td>2</td></tr><tr><td>1</td></tr><tr><td>5</td></tr><tr><td>4</td></tr><tr><td>1</td></tr><tr><td>1</td></tr><tr><td>4</td></tr><tr><td>2</td></tr><tr><td>0</td></tr><tr><td>0</td></tr><tr><td>0</td></tr><tr><td>3</td></tr><tr><td>2</td></tr><tr><td>1</td></tr><tr><td>1</td></tr><tr><td>2</td></tr><tr><td>1</td></tr><tr><td>3</td></tr><tr><td>1</td></tr><tr><td>2</td></tr><tr><td>4</td></tr><tr><td>0</td></tr><tr><td>0</td></tr><tr><td>1</td></tr><tr><td>2</td></tr><tr><td>4</td></tr><tr><td>4</td></tr><tr><td>2</td></tr><tr><td>1</td></tr><tr><td>1</td></tr><tr><td>1</td></tr><tr><td>2</td></tr><tr><td>1</td></tr><tr><td>2</td></tr><tr><td>2</td></tr><tr><td>0</td></tr><tr><td>5</td></tr><tr><td>4</td></tr><tr><td>2</td></tr><tr><td>0</td></tr><tr><td>4</td></tr><tr><td>0</td></tr><tr><td>0</td></tr><tr><td>0</td></tr><tr><td>1</td></tr><tr><td>3</td></tr><tr><td>1</td></tr><tr><td>3</td></tr><tr><td>3</td></tr><tr><td>0</td></tr><tr><td>4</td></tr><tr><td>1</td></tr><tr><td>2</td></tr><tr><td>3</td></tr><tr><td>1</td></tr><tr><td>1</td></tr><tr><td>1</td></tr><tr><td>2</td></tr><tr><td>5</td></tr><tr><td>3</td></tr><tr><td>1</td></tr><tr><td>2</td></tr><tr><td>4</td></tr><tr><td>1</td></tr><tr><td>1</td></tr><tr><td>2</td></tr><tr><td>1</td></tr><tr><td>1</td></tr><tr><td>1</td></tr><tr><td>1</td></tr><tr><td>0</td></tr><tr><td>2</td></tr><tr><td>1</td></tr><tr><td>0</td></tr><tr><td>1</td></tr><tr><td>6</td></tr><tr><td>3</td></tr><tr><td>0</td></tr><tr><td>2</td></tr><tr><td>1</td></tr><tr><td>0</td></tr><tr><td>0</td></tr><tr><td>0</td></tr><tr><td>0</td></tr><tr><td>1</td></tr><tr><td>2</td></tr><tr><td>2</td></tr><tr><td>1</td></tr><tr><td>1</td></tr><tr><td>1</td></tr><tr><td>0</td></tr><tr><td>1</td></tr><tr><td>3</td></tr><tr><td>0</td></tr><tr><td>2</td></tr><tr><td>2</td></tr><tr><td>4</td></tr><tr><td>4</td></tr><tr><td>2</td></tr><tr><td>1</td></tr><tr><td>0</td></tr><tr><td>5</td></tr><tr><td>0</td></tr><tr><td>2</td></tr><tr><td>2</td></tr><tr><td>0</td></tr><tr><td>2</td></tr><tr><td>0</td></tr><tr><td>0</td></tr><tr><td>2</td></tr><tr><td>2</td></tr><tr><td>0</td></tr><tr><td>3</td></tr><tr><td>1</td></tr><tr><td>1</td></tr><tr><td>2</td></tr><tr><td>2</td></tr><tr><td>0</td></tr><tr><td>1</td></tr><tr><td>1</td></tr><tr><td>1</td></tr><tr><td>2</td></tr><tr><td>2</td></tr><tr><td>2</td></tr><tr><td>5</td></tr><tr><td>1</td></tr><tr><td>4</td></tr><tr><td>0</td></tr><tr><td>1</td></tr><tr><td>3</td></tr><tr><td>3</td></tr><tr><td>2</td></tr><tr><td>1</td></tr><tr><td>5</td></tr><tr><td>3</td></tr><tr><td>1</td></tr><tr><td>0</td></tr><tr><td>1</td></tr><tr><td>0</td></tr><tr><td>1</td></tr><tr><td>0</td></tr><tr><td>1</td></tr><tr><td>2</td></tr><tr><td>1</td></tr><tr><td>4</td></tr><tr><td>1</td></tr><tr><td>0</td></tr><tr><td>0</td></tr><tr><td>2</td></tr><tr><td>3</td></tr><tr><td>3</td></tr><tr><td>0</td></tr><tr><td>1</td></tr><tr><td>0</td></tr><tr><td>1</td></tr><tr><td>3</td></tr><tr><td>3</td></tr><tr><td>0</td></tr><tr><td>4</td></tr><tr><td>7</td></tr><tr><td>0</td></tr><tr><td>3</td></tr><tr><td>0</td></tr><tr><td>2</td></tr><tr><td>4</td></tr><tr><td>0</td></tr><tr><td>2</td></tr><tr><td>1</td></tr><tr><td>1</td></tr><tr><td>2</td></tr><tr><td>2</td></tr><tr><td>0</td></tr><tr><td>2</td></tr><tr><td>2</td></tr><tr><td>1</td></tr><tr><td>1</td></tr><tr><td>4</td></tr><tr><td>2</td></tr><tr><td>5</td></tr><tr><td>0</td></tr><tr><td>1</td></tr><tr><td>3</td></tr><tr><td>1</td></tr><tr><td>1</td></tr><tr><td>1</td></tr><tr><td>0</td></tr><tr><td>0</td></tr><tr><td>1</td></tr><tr><td>1</td></tr><tr><td>1</td></tr><tr><td>0</td></tr><tr><td>0</td></tr><tr><td>2</td></tr><tr><td>2</td></tr><tr><td>5</td></tr><tr><td>3</td></tr><tr><td>1</td></tr><tr><td>0</td></tr><tr><td>7</td></tr><tr><td>1</td></tr><tr><td>2</td></tr><tr><td>3</td></tr><tr><td>0</td></tr><tr><td>3</td></tr><tr><td>1</td></tr><tr><td>0</td></tr><tr><td>1</td></tr><tr><td>0</td></tr><tr><td>1</td></tr><tr><td>4</td></tr><tr><td>1</td></tr><tr><td>1</td></tr></tbody></table></div>"
      ]
     },
     "metadata": {
      "application/vnd.databricks.v1+output": {
       "addedWidgets": {},
       "aggData": [],
       "aggError": "",
       "aggOverflow": false,
       "aggSchema": [],
       "aggSeriesLimitReached": false,
       "aggType": "",
       "arguments": {},
       "columnCustomDisplayInfos": {},
       "data": [
        [
         0
        ],
        [
         2
        ],
        [
         2
        ],
        [
         1
        ],
        [
         1
        ],
        [
         0
        ],
        [
         1
        ],
        [
         0
        ],
        [
         0
        ],
        [
         0
        ],
        [
         2
        ],
        [
         3
        ],
        [
         2
        ],
        [
         2
        ],
        [
         2
        ],
        [
         2
        ],
        [
         3
        ],
        [
         1
        ],
        [
         2
        ],
        [
         3
        ],
        [
         2
        ],
        [
         0
        ],
        [
         0
        ],
        [
         0
        ],
        [
         1
        ],
        [
         2
        ],
        [
         2
        ],
        [
         1
        ],
        [
         0
        ],
        [
         2
        ],
        [
         2
        ],
        [
         0
        ],
        [
         0
        ],
        [
         0
        ],
        [
         3
        ],
        [
         5
        ],
        [
         0
        ],
        [
         1
        ],
        [
         0
        ],
        [
         1
        ],
        [
         1
        ],
        [
         3
        ],
        [
         1
        ],
        [
         1
        ],
        [
         2
        ],
        [
         1
        ],
        [
         3
        ],
        [
         0
        ],
        [
         3
        ],
        [
         1
        ],
        [
         0
        ],
        [
         1
        ],
        [
         3
        ],
        [
         1
        ],
        [
         2
        ],
        [
         0
        ],
        [
         1
        ],
        [
         1
        ],
        [
         2
        ],
        [
         1
        ],
        [
         2
        ],
        [
         0
        ],
        [
         3
        ],
        [
         0
        ],
        [
         0
        ],
        [
         0
        ],
        [
         3
        ],
        [
         4
        ],
        [
         0
        ],
        [
         3
        ],
        [
         0
        ],
        [
         2
        ],
        [
         3
        ],
        [
         4
        ],
        [
         1
        ],
        [
         1
        ],
        [
         1
        ],
        [
         3
        ],
        [
         3
        ],
        [
         0
        ],
        [
         2
        ],
        [
         2
        ],
        [
         1
        ],
        [
         2
        ],
        [
         1
        ],
        [
         1
        ],
        [
         3
        ],
        [
         2
        ],
        [
         3
        ],
        [
         3
        ],
        [
         0
        ],
        [
         1
        ],
        [
         0
        ],
        [
         1
        ],
        [
         1
        ],
        [
         2
        ],
        [
         2
        ],
        [
         5
        ],
        [
         0
        ],
        [
         0
        ],
        [
         0
        ],
        [
         2
        ],
        [
         3
        ],
        [
         2
        ],
        [
         2
        ],
        [
         2
        ],
        [
         0
        ],
        [
         1
        ],
        [
         0
        ],
        [
         0
        ],
        [
         1
        ],
        [
         0
        ],
        [
         3
        ],
        [
         2
        ],
        [
         4
        ],
        [
         2
        ],
        [
         2
        ],
        [
         0
        ],
        [
         1
        ],
        [
         2
        ],
        [
         1
        ],
        [
         5
        ],
        [
         3
        ],
        [
         1
        ],
        [
         0
        ],
        [
         0
        ],
        [
         3
        ],
        [
         2
        ],
        [
         2
        ],
        [
         4
        ],
        [
         0
        ],
        [
         3
        ],
        [
         2
        ],
        [
         1
        ],
        [
         1
        ],
        [
         1
        ],
        [
         1
        ],
        [
         1
        ],
        [
         1
        ],
        [
         0
        ],
        [
         0
        ],
        [
         0
        ],
        [
         0
        ],
        [
         3
        ],
        [
         7
        ],
        [
         0
        ],
        [
         1
        ],
        [
         2
        ],
        [
         1
        ],
        [
         2
        ],
        [
         0
        ],
        [
         1
        ],
        [
         0
        ],
        [
         1
        ],
        [
         3
        ],
        [
         1
        ],
        [
         1
        ],
        [
         3
        ],
        [
         2
        ],
        [
         1
        ],
        [
         5
        ],
        [
         4
        ],
        [
         1
        ],
        [
         1
        ],
        [
         4
        ],
        [
         2
        ],
        [
         0
        ],
        [
         0
        ],
        [
         0
        ],
        [
         3
        ],
        [
         2
        ],
        [
         1
        ],
        [
         1
        ],
        [
         2
        ],
        [
         1
        ],
        [
         3
        ],
        [
         1
        ],
        [
         2
        ],
        [
         4
        ],
        [
         0
        ],
        [
         0
        ],
        [
         1
        ],
        [
         2
        ],
        [
         4
        ],
        [
         4
        ],
        [
         2
        ],
        [
         1
        ],
        [
         1
        ],
        [
         1
        ],
        [
         2
        ],
        [
         1
        ],
        [
         2
        ],
        [
         2
        ],
        [
         0
        ],
        [
         5
        ],
        [
         4
        ],
        [
         2
        ],
        [
         0
        ],
        [
         4
        ],
        [
         0
        ],
        [
         0
        ],
        [
         0
        ],
        [
         1
        ],
        [
         3
        ],
        [
         1
        ],
        [
         3
        ],
        [
         3
        ],
        [
         0
        ],
        [
         4
        ],
        [
         1
        ],
        [
         2
        ],
        [
         3
        ],
        [
         1
        ],
        [
         1
        ],
        [
         1
        ],
        [
         2
        ],
        [
         5
        ],
        [
         3
        ],
        [
         1
        ],
        [
         2
        ],
        [
         4
        ],
        [
         1
        ],
        [
         1
        ],
        [
         2
        ],
        [
         1
        ],
        [
         1
        ],
        [
         1
        ],
        [
         1
        ],
        [
         0
        ],
        [
         2
        ],
        [
         1
        ],
        [
         0
        ],
        [
         1
        ],
        [
         6
        ],
        [
         3
        ],
        [
         0
        ],
        [
         2
        ],
        [
         1
        ],
        [
         0
        ],
        [
         0
        ],
        [
         0
        ],
        [
         0
        ],
        [
         1
        ],
        [
         2
        ],
        [
         2
        ],
        [
         1
        ],
        [
         1
        ],
        [
         1
        ],
        [
         0
        ],
        [
         1
        ],
        [
         3
        ],
        [
         0
        ],
        [
         2
        ],
        [
         2
        ],
        [
         4
        ],
        [
         4
        ],
        [
         2
        ],
        [
         1
        ],
        [
         0
        ],
        [
         5
        ],
        [
         0
        ],
        [
         2
        ],
        [
         2
        ],
        [
         0
        ],
        [
         2
        ],
        [
         0
        ],
        [
         0
        ],
        [
         2
        ],
        [
         2
        ],
        [
         0
        ],
        [
         3
        ],
        [
         1
        ],
        [
         1
        ],
        [
         2
        ],
        [
         2
        ],
        [
         0
        ],
        [
         1
        ],
        [
         1
        ],
        [
         1
        ],
        [
         2
        ],
        [
         2
        ],
        [
         2
        ],
        [
         5
        ],
        [
         1
        ],
        [
         4
        ],
        [
         0
        ],
        [
         1
        ],
        [
         3
        ],
        [
         3
        ],
        [
         2
        ],
        [
         1
        ],
        [
         5
        ],
        [
         3
        ],
        [
         1
        ],
        [
         0
        ],
        [
         1
        ],
        [
         0
        ],
        [
         1
        ],
        [
         0
        ],
        [
         1
        ],
        [
         2
        ],
        [
         1
        ],
        [
         4
        ],
        [
         1
        ],
        [
         0
        ],
        [
         0
        ],
        [
         2
        ],
        [
         3
        ],
        [
         3
        ],
        [
         0
        ],
        [
         1
        ],
        [
         0
        ],
        [
         1
        ],
        [
         3
        ],
        [
         3
        ],
        [
         0
        ],
        [
         4
        ],
        [
         7
        ],
        [
         0
        ],
        [
         3
        ],
        [
         0
        ],
        [
         2
        ],
        [
         4
        ],
        [
         0
        ],
        [
         2
        ],
        [
         1
        ],
        [
         1
        ],
        [
         2
        ],
        [
         2
        ],
        [
         0
        ],
        [
         2
        ],
        [
         2
        ],
        [
         1
        ],
        [
         1
        ],
        [
         4
        ],
        [
         2
        ],
        [
         5
        ],
        [
         0
        ],
        [
         1
        ],
        [
         3
        ],
        [
         1
        ],
        [
         1
        ],
        [
         1
        ],
        [
         0
        ],
        [
         0
        ],
        [
         1
        ],
        [
         1
        ],
        [
         1
        ],
        [
         0
        ],
        [
         0
        ],
        [
         2
        ],
        [
         2
        ],
        [
         5
        ],
        [
         3
        ],
        [
         1
        ],
        [
         0
        ],
        [
         7
        ],
        [
         1
        ],
        [
         2
        ],
        [
         3
        ],
        [
         0
        ],
        [
         3
        ],
        [
         1
        ],
        [
         0
        ],
        [
         1
        ],
        [
         0
        ],
        [
         1
        ],
        [
         4
        ],
        [
         1
        ],
        [
         1
        ]
       ],
       "datasetInfos": [],
       "dbfsResultPath": null,
       "isJsonSchema": true,
       "metadata": {},
       "overflow": false,
       "plotOptions": {
        "customPlotOptions": {},
        "displayType": "table",
        "pivotAggregation": null,
        "pivotColumns": null,
        "xColumns": null,
        "yColumns": null
       },
       "removedWidgets": [],
       "schema": [
        {
         "metadata": "{}",
         "name": "TEAM_HOME_SCORE",
         "type": "\"integer\""
        }
       ],
       "type": "table"
      }
     },
     "output_type": "display_data"
    }
   ],
   "source": [
    "df_filtered_scores = df_all.filter(df_all.TEAM_HOME_SCORE.isNotNull())\n",
    "# Seleccionar únicamente la columna TEAM_HOME_SCORE\n",
    "df_filtered_scores.select(\"TEAM_HOME_SCORE\").display()"
   ]
  },
  {
   "cell_type": "code",
   "execution_count": 0,
   "metadata": {
    "application/vnd.databricks.v1+cell": {
     "cellMetadata": {
      "byteLimit": 2048000,
      "rowLimit": 10000
     },
     "inputWidgets": {},
     "nuid": "3119911e-31c1-472e-a269-aa5c98b69a38",
     "showTitle": false,
     "tableResultSettingsMap": {},
     "title": ""
    }
   },
   "outputs": [
    {
     "output_type": "stream",
     "name": "stdout",
     "output_type": "stream",
     "text": [
      "+---------------+-----------+\n| TEAM_NAME_HOME|TOTAL_GOALS|\n+---------------+-----------+\n|    Real Madrid|         26|\n|Manchester City|         25|\n|        Chelsea|         20|\n+---------------+-----------+\n\n"
     ]
    }
   ],
   "source": [
    "# Filtrar los partidos donde el equipo juega en su estadio (como local)\n",
    "df_filtered = df_all.filter(df_all.TEAM_HOME_SCORE.isNotNull())\n",
    "\n",
    "# Convertir los goles a enteros, manejando los valores no numéricos\n",
    "df_filtered = df_filtered.withColumn(\n",
    "    \"TEAM_HOME_SCORE\", \n",
    "    F.when(F.col(\"TEAM_HOME_SCORE\").rlike(\"^\\d+$\"), F.col(\"TEAM_HOME_SCORE\").cast(IntegerType()))\n",
    "    .otherwise(0)  # Reemplazar valores no numéricos por 0\n",
    ")\n",
    "\n",
    "# Agrupar por el equipo local y sumar los goles anotados en su estadio\n",
    "df_goals_home = df_filtered.groupBy(\"TEAM_NAME_HOME\").agg(\n",
    "    F.sum(\"TEAM_HOME_SCORE\").alias(\"TOTAL_GOALS\") \n",
    ")\n",
    "\n",
    "# Ordenar por los goles anotados en orden descendente\n",
    "df_goals_home_sorted = df_goals_home.orderBy(\"TOTAL_GOALS\", ascending=False)\n",
    "\n",
    "# Obtener los 3 equipos con más goles\n",
    "df_top_3_home_goals = df_goals_home_sorted.limit(3)\n",
    "\n",
    "# Mostrar el resultado\n",
    "df_top_3_home_goals.show()\n",
    "\n",
    "# Guardar el resultado en un nuevo archivo\n",
    "df_top_3_home_goals.write.csv(\"/FileStore/examenDataBricks/Caso_2/filtered_results/csv_1.csv\", header=True)\n"
   ]
  },
  {
   "cell_type": "markdown",
   "metadata": {
    "application/vnd.databricks.v1+cell": {
     "cellMetadata": {},
     "inputWidgets": {},
     "nuid": "b375e92e-5c96-4ee8-8c35-29b8e7ab887f",
     "showTitle": false,
     "tableResultSettingsMap": {},
     "title": ""
    }
   },
   "source": [
    "2. Encuentra el equipo con posesión mayoritaria la mayor cantidad de veces durante la UEFA Champions League 2021-22. El resultado debe incluir dos columnas: TEAM_NAME y GAME_COUNT, que es la cantidad de veces que el equipo tuvo posesión mayoritaria durante un partido de fútbol. Guarda esta consulta (o el notebook) como TEAM_WITH_MAJORITY_POSSESSION"
   ]
  },
  {
   "cell_type": "code",
   "execution_count": 0,
   "metadata": {
    "application/vnd.databricks.v1+cell": {
     "cellMetadata": {
      "byteLimit": 2048000,
      "rowLimit": 10000
     },
     "inputWidgets": {},
     "nuid": "5ebcf077-da96-4fa1-8bc8-22384f04edb4",
     "showTitle": false,
     "tableResultSettingsMap": {},
     "title": ""
    }
   },
   "outputs": [
    {
     "output_type": "stream",
     "name": "stdout",
     "output_type": "stream",
     "text": [
      "+-------------------+----------+\n|          TEAM_NAME|GAME_COUNT|\n+-------------------+----------+\n|          Liverpool|        15|\n|        Real Madrid|        13|\n|            Chelsea|        13|\n|    Manchester City|        11|\n|               Ajax|         9|\n|            Benfica|         9|\n|          Barcelona|         8|\n|           Man City|         7|\n|             Bayern|         7|\n|           Juventus|         7|\n|Paris Saint-Germain|         7|\n|             Napoli|         7|\n|      Bayern Munich|         7|\n|           Dortmund|         6|\n|          Marseille|         6|\n|         Man United|         5|\n|              Paris|         5|\n|              Milan|         5|\n|           FC Porto|         5|\n|            Sevilla|         5|\n+-------------------+----------+\nonly showing top 20 rows\n\n"
     ]
    }
   ],
   "source": [
    "# Filtrar los partidos de la UEFA Champions League 2021-22 (suponiendo que ya cargaste los datos de esta temporada)\n",
    "df_2021_22 = df_2021.union(df_2022)\n",
    "# Crear una nueva columna para determinar qué equipo tuvo mayor posesión\n",
    "df_possession_majority = df_2021_22.withColumn(\n",
    "    \"TEAM_WITH_MAJORITY_POSSESSION\",\n",
    "    F.when(df_2021_22[\"POSSESSION_HOME\"] > df_2021_22[\"POSSESSION_AWAY\"], df_2021_22[\"TEAM_NAME_HOME\"])\n",
    "    .otherwise(df_2021_22[\"TEAM_NAME_AWAY\"])\n",
    ")\n",
    "\n",
    "# Contar la cantidad de veces que un equipo tuvo posesión mayoritaria\n",
    "df_team_majority_possession_count = df_possession_majority.groupBy(\"TEAM_WITH_MAJORITY_POSSESSION\").agg(\n",
    "    F.count(\"TEAM_WITH_MAJORITY_POSSESSION\").alias(\"GAME_COUNT\")\n",
    ")\n",
    "\n",
    "# Renombrar las columnas para que sean TEAM_NAME y GAME_COUNT\n",
    "df_team_majority_possession_count = df_team_majority_possession_count.withColumnRenamed(\n",
    "    \"TEAM_WITH_MAJORITY_POSSESSION\", \"TEAM_NAME\"\n",
    ")\n",
    "\n",
    "# Ordenar por el número de veces que un equipo tuvo posesión mayoritaria\n",
    "df_team_majority_possession_count_sorted = df_team_majority_possession_count.orderBy(\"GAME_COUNT\", ascending=False)\n",
    "\n",
    "# Mostrar el resultado\n",
    "df_team_majority_possession_count_sorted.show()\n",
    "\n",
    "# Guardar el resultado en un nuevo archivo\n",
    "df_team_majority_possession_count_sorted.write.csv(\"/FileStore/examenDataBricks/Caso_2/filtered_results/csv_2.csv\", header=True)\n"
   ]
  },
  {
   "cell_type": "markdown",
   "metadata": {
    "application/vnd.databricks.v1+cell": {
     "cellMetadata": {},
     "inputWidgets": {},
     "nuid": "7c960a38-f12d-4b88-aaad-b70de0c2323f",
     "showTitle": false,
     "tableResultSettingsMap": {},
     "title": ""
    }
   },
   "source": [
    "3. Encuentra la lista de equipos de cada fase del juego que ganaron el duelo en un partido pero terminaron perdiendo el juego en el Campeonato de la UEFA 2022-23. El resultado debe contener dos columnas: STAGE y TEAM_LOST. Guarda la consulta (o el notebook) como TEAM_WON_DUEL_LOST_GAME_STAGE_WISE."
   ]
  },
  {
   "cell_type": "code",
   "execution_count": 0,
   "metadata": {
    "application/vnd.databricks.v1+cell": {
     "cellMetadata": {
      "byteLimit": 2048000,
      "rowLimit": 10000
     },
     "inputWidgets": {},
     "nuid": "5b5a904a-58be-4e45-8a29-d16b3b8fa65f",
     "showTitle": false,
     "tableResultSettingsMap": {},
     "title": ""
    }
   },
   "outputs": [
    {
     "output_type": "stream",
     "name": "stdout",
     "output_type": "stream",
     "text": [
      "+--------------------+-----------------+\n|               STAGE|        TEAM_LOST|\n+--------------------+-----------------+\n| Group stage: Mat...|          Chelsea|\n| Group stage: Mat...|        K�benhavn|\n| Group stage: Mat...|         Juventus|\n| Group stage: Mat...|    Maccabi Haifa|\n| Group stage: Mat...|          Rangers|\n| Group stage: Mat...|        Liverpool|\n| Group stage: Mat...|            Porto|\n| Group stage: Mat...| Bayer Leverkusen|\n| Group stage: Mat...|   Viktoria Plze?|\n| Group stage: Mat...|        Marseille|\n| Group stage: Mat...|             Ajax|\n| Group stage: Mat...|  Atletico Madrid|\n| Group stage: Mat...|        Barcelona|\n| Group stage: Mat...|Tottenham Hotspur|\n| Group stage: Mat...|       RB Leipzig|\n| Group stage: Mat...|          Rangers|\n| Group stage: Mat...|  Atletico Madrid|\n| Group stage: Mat...| Bayer Leverkusen|\n| Group stage: Mat...|   Viktoria Plze?|\n| Group stage: Mat...|        Barcelona|\n+--------------------+-----------------+\nonly showing top 20 rows\n\n"
     ]
    }
   ],
   "source": [
    "from pyspark.sql import functions as F\n",
    "\n",
    "# Filtrar los datos de la UEFA Champions League 2022-23\n",
    "df_2022_filtered = df_2022\n",
    "\n",
    "# Filtrar los partidos en los que un equipo ganó el duelo pero perdió el juego\n",
    "df_duel_won_lost_game = df_2022_filtered.withColumn(\n",
    "    \"TEAM_WON_DUEL\",\n",
    "    F.when(\n",
    "        # el equipo local gana mas duelos, pero pierde \n",
    "        (df_2022_filtered[\"DUELS_WON_HOME\"] > df_2022_filtered[\"DUELS_WON_AWAY\"]) & \n",
    "        (df_2022_filtered[\"TEAM_HOME_SCORE\"] < df_2022_filtered[\"TEAM_AWAY_SCORE\"]), df_2022_filtered[\"TEAM_NAME_HOME\"]\n",
    "    ).when(\n",
    "        # el equipo visitante gana mas duelos, pero pierde\n",
    "        (df_2022_filtered[\"DUELS_WON_AWAY\"] > df_2022_filtered[\"DUELS_WON_HOME\"]) & \n",
    "        (df_2022_filtered[\"TEAM_AWAY_SCORE\"] < df_2022_filtered[\"TEAM_HOME_SCORE\"]), df_2022_filtered[\"TEAM_NAME_AWAY\"]\n",
    "    ).otherwise(None)\n",
    ")\n",
    "\n",
    "# Filtrar solo los casos donde un equipo ganó el duelo pero perdió el juego\n",
    "df_duel_won_lost_game_filtered = df_duel_won_lost_game.filter(df_duel_won_lost_game[\"TEAM_WON_DUEL\"].isNotNull())\n",
    "\n",
    "# Seleccionar las columnas STAGE y el equipo que ganó el duelo pero perdió el juego\n",
    "df_result = df_duel_won_lost_game_filtered.select(\"STAGE\", \"TEAM_WON_DUEL\").withColumnRenamed(\n",
    "    \"TEAM_WON_DUEL\", \"TEAM_LOST\"\n",
    ")\n",
    "\n",
    "# Mostrar el resultado\n",
    "df_result.show()\n",
    "\n",
    "# Guardar el resultado en un nuevo archivo\n",
    "df_result.write.csv(\"/FileStore/examenDataBricks/Caso_2/filtered_results/team_won_duel_lost_game_stage_wise.csv\", header=True)\n"
   ]
  }
 ],
 "metadata": {
  "application/vnd.databricks.v1+notebook": {
   "dashboards": [],
   "environmentMetadata": null,
   "language": "python",
   "notebookMetadata": {
    "pythonIndentUnit": 4
   },
   "notebookName": "Caso_2",
   "widgets": {}
  }
 },
 "nbformat": 4,
 "nbformat_minor": 0
}
